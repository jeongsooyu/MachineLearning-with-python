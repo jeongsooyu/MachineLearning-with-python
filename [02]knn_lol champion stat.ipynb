{
 "cells": [
  {
   "cell_type": "code",
   "execution_count": 2,
   "metadata": {},
   "outputs": [],
   "source": [
    "import pandas as pd\n",
    "import numpy as np\n",
    "from sklearn.cluster import KMeans\n",
    "import matplotlib.pyplot as plt\n",
    "import seaborn as sns\n",
    "%matplotlib inline"
   ]
  },
  {
   "cell_type": "code",
   "execution_count": 3,
   "metadata": {},
   "outputs": [
    {
     "data": {
      "text/html": [
       "<div>\n",
       "<style scoped>\n",
       "    .dataframe tbody tr th:only-of-type {\n",
       "        vertical-align: middle;\n",
       "    }\n",
       "\n",
       "    .dataframe tbody tr th {\n",
       "        vertical-align: top;\n",
       "    }\n",
       "\n",
       "    .dataframe thead th {\n",
       "        text-align: right;\n",
       "    }\n",
       "</style>\n",
       "<table border=\"1\" class=\"dataframe\">\n",
       "  <thead>\n",
       "    <tr style=\"text-align: right;\">\n",
       "      <th></th>\n",
       "      <th>name</th>\n",
       "      <th>category</th>\n",
       "      <th>hp</th>\n",
       "      <th>ad</th>\n",
       "      <th>speed</th>\n",
       "      <th>range</th>\n",
       "      <th>mr</th>\n",
       "      <th>armor</th>\n",
       "    </tr>\n",
       "  </thead>\n",
       "  <tbody>\n",
       "    <tr>\n",
       "      <th>0</th>\n",
       "      <td>Rengar</td>\n",
       "      <td>W</td>\n",
       "      <td>2205.00</td>\n",
       "      <td>122.00</td>\n",
       "      <td>1.1650</td>\n",
       "      <td>125</td>\n",
       "      <td>54.600</td>\n",
       "      <td>88.00</td>\n",
       "    </tr>\n",
       "    <tr>\n",
       "      <th>1</th>\n",
       "      <td>Yasuo</td>\n",
       "      <td>W</td>\n",
       "      <td>2089.00</td>\n",
       "      <td>117.60</td>\n",
       "      <td>1.0750</td>\n",
       "      <td>175</td>\n",
       "      <td>52.500</td>\n",
       "      <td>91.20</td>\n",
       "    </tr>\n",
       "    <tr>\n",
       "      <th>2</th>\n",
       "      <td>Riven</td>\n",
       "      <td>W</td>\n",
       "      <td>2106.48</td>\n",
       "      <td>118.00</td>\n",
       "      <td>1.2550</td>\n",
       "      <td>125</td>\n",
       "      <td>54.600</td>\n",
       "      <td>90.60</td>\n",
       "    </tr>\n",
       "    <tr>\n",
       "      <th>3</th>\n",
       "      <td>Evelynn</td>\n",
       "      <td>M</td>\n",
       "      <td>2084.00</td>\n",
       "      <td>115.00</td>\n",
       "      <td>1.0030</td>\n",
       "      <td>125</td>\n",
       "      <td>54.600</td>\n",
       "      <td>100.00</td>\n",
       "    </tr>\n",
       "    <tr>\n",
       "      <th>4</th>\n",
       "      <td>Ahri</td>\n",
       "      <td>M</td>\n",
       "      <td>2182.00</td>\n",
       "      <td>107.04</td>\n",
       "      <td>0.9850</td>\n",
       "      <td>550</td>\n",
       "      <td>39.000</td>\n",
       "      <td>93.88</td>\n",
       "    </tr>\n",
       "    <tr>\n",
       "      <th>5</th>\n",
       "      <td>Katarina</td>\n",
       "      <td>M</td>\n",
       "      <td>2294.00</td>\n",
       "      <td>115.60</td>\n",
       "      <td>1.1182</td>\n",
       "      <td>125</td>\n",
       "      <td>54.600</td>\n",
       "      <td>90.88</td>\n",
       "    </tr>\n",
       "    <tr>\n",
       "      <th>6</th>\n",
       "      <td>Mundo</td>\n",
       "      <td>T</td>\n",
       "      <td>2184.54</td>\n",
       "      <td>124.27</td>\n",
       "      <td>1.1290</td>\n",
       "      <td>125</td>\n",
       "      <td>54.600</td>\n",
       "      <td>99.00</td>\n",
       "    </tr>\n",
       "    <tr>\n",
       "      <th>7</th>\n",
       "      <td>Zac</td>\n",
       "      <td>T</td>\n",
       "      <td>2325.00</td>\n",
       "      <td>121.20</td>\n",
       "      <td>0.9130</td>\n",
       "      <td>175</td>\n",
       "      <td>54.500</td>\n",
       "      <td>96.00</td>\n",
       "    </tr>\n",
       "    <tr>\n",
       "      <th>8</th>\n",
       "      <td>Maokai</td>\n",
       "      <td>T</td>\n",
       "      <td>2275.00</td>\n",
       "      <td>122.94</td>\n",
       "      <td>1.0075</td>\n",
       "      <td>125</td>\n",
       "      <td>32.325</td>\n",
       "      <td>111.00</td>\n",
       "    </tr>\n",
       "    <tr>\n",
       "      <th>9</th>\n",
       "      <td>Caitlyn</td>\n",
       "      <td>A</td>\n",
       "      <td>2119.00</td>\n",
       "      <td>109.84</td>\n",
       "      <td>1.3450</td>\n",
       "      <td>650</td>\n",
       "      <td>39.000</td>\n",
       "      <td>91.00</td>\n",
       "    </tr>\n",
       "    <tr>\n",
       "      <th>10</th>\n",
       "      <td>Tristana</td>\n",
       "      <td>A</td>\n",
       "      <td>2053.00</td>\n",
       "      <td>116.98</td>\n",
       "      <td>0.8950</td>\n",
       "      <td>525</td>\n",
       "      <td>39.000</td>\n",
       "      <td>80.00</td>\n",
       "    </tr>\n",
       "    <tr>\n",
       "      <th>11</th>\n",
       "      <td>Draven</td>\n",
       "      <td>A</td>\n",
       "      <td>2158.00</td>\n",
       "      <td>124.98</td>\n",
       "      <td>1.1110</td>\n",
       "      <td>550</td>\n",
       "      <td>39.000</td>\n",
       "      <td>88.40</td>\n",
       "    </tr>\n",
       "  </tbody>\n",
       "</table>\n",
       "</div>"
      ],
      "text/plain": [
       "        name category       hp      ad   speed  range      mr   armor\n",
       "0     Rengar        W  2205.00  122.00  1.1650    125  54.600   88.00\n",
       "1      Yasuo        W  2089.00  117.60  1.0750    175  52.500   91.20\n",
       "2      Riven        W  2106.48  118.00  1.2550    125  54.600   90.60\n",
       "3    Evelynn        M  2084.00  115.00  1.0030    125  54.600  100.00\n",
       "4       Ahri        M  2182.00  107.04  0.9850    550  39.000   93.88\n",
       "5   Katarina        M  2294.00  115.60  1.1182    125  54.600   90.88\n",
       "6      Mundo        T  2184.54  124.27  1.1290    125  54.600   99.00\n",
       "7        Zac        T  2325.00  121.20  0.9130    175  54.500   96.00\n",
       "8     Maokai        T  2275.00  122.94  1.0075    125  32.325  111.00\n",
       "9    Caitlyn        A  2119.00  109.84  1.3450    650  39.000   91.00\n",
       "10  Tristana        A  2053.00  116.98  0.8950    525  39.000   80.00\n",
       "11    Draven        A  2158.00  124.98  1.1110    550  39.000   88.40"
      ]
     },
     "execution_count": 3,
     "metadata": {},
     "output_type": "execute_result"
    }
   ],
   "source": [
    "original = pd.read_csv('data/champ_stat.csv')\n",
    "original"
   ]
  },
  {
   "cell_type": "code",
   "execution_count": 4,
   "metadata": {},
   "outputs": [
    {
     "data": {
      "text/html": [
       "<div>\n",
       "<style scoped>\n",
       "    .dataframe tbody tr th:only-of-type {\n",
       "        vertical-align: middle;\n",
       "    }\n",
       "\n",
       "    .dataframe tbody tr th {\n",
       "        vertical-align: top;\n",
       "    }\n",
       "\n",
       "    .dataframe thead th {\n",
       "        text-align: right;\n",
       "    }\n",
       "</style>\n",
       "<table border=\"1\" class=\"dataframe\">\n",
       "  <thead>\n",
       "    <tr style=\"text-align: right;\">\n",
       "      <th></th>\n",
       "      <th>hp</th>\n",
       "      <th>ad</th>\n",
       "      <th>speed</th>\n",
       "      <th>range</th>\n",
       "      <th>mr</th>\n",
       "      <th>armor</th>\n",
       "    </tr>\n",
       "  </thead>\n",
       "  <tbody>\n",
       "    <tr>\n",
       "      <th>0</th>\n",
       "      <td>2205.00</td>\n",
       "      <td>122.00</td>\n",
       "      <td>1.1650</td>\n",
       "      <td>125</td>\n",
       "      <td>54.600</td>\n",
       "      <td>88.00</td>\n",
       "    </tr>\n",
       "    <tr>\n",
       "      <th>1</th>\n",
       "      <td>2089.00</td>\n",
       "      <td>117.60</td>\n",
       "      <td>1.0750</td>\n",
       "      <td>175</td>\n",
       "      <td>52.500</td>\n",
       "      <td>91.20</td>\n",
       "    </tr>\n",
       "    <tr>\n",
       "      <th>2</th>\n",
       "      <td>2106.48</td>\n",
       "      <td>118.00</td>\n",
       "      <td>1.2550</td>\n",
       "      <td>125</td>\n",
       "      <td>54.600</td>\n",
       "      <td>90.60</td>\n",
       "    </tr>\n",
       "    <tr>\n",
       "      <th>3</th>\n",
       "      <td>2084.00</td>\n",
       "      <td>115.00</td>\n",
       "      <td>1.0030</td>\n",
       "      <td>125</td>\n",
       "      <td>54.600</td>\n",
       "      <td>100.00</td>\n",
       "    </tr>\n",
       "    <tr>\n",
       "      <th>4</th>\n",
       "      <td>2182.00</td>\n",
       "      <td>107.04</td>\n",
       "      <td>0.9850</td>\n",
       "      <td>550</td>\n",
       "      <td>39.000</td>\n",
       "      <td>93.88</td>\n",
       "    </tr>\n",
       "    <tr>\n",
       "      <th>5</th>\n",
       "      <td>2294.00</td>\n",
       "      <td>115.60</td>\n",
       "      <td>1.1182</td>\n",
       "      <td>125</td>\n",
       "      <td>54.600</td>\n",
       "      <td>90.88</td>\n",
       "    </tr>\n",
       "    <tr>\n",
       "      <th>6</th>\n",
       "      <td>2184.54</td>\n",
       "      <td>124.27</td>\n",
       "      <td>1.1290</td>\n",
       "      <td>125</td>\n",
       "      <td>54.600</td>\n",
       "      <td>99.00</td>\n",
       "    </tr>\n",
       "    <tr>\n",
       "      <th>7</th>\n",
       "      <td>2325.00</td>\n",
       "      <td>121.20</td>\n",
       "      <td>0.9130</td>\n",
       "      <td>175</td>\n",
       "      <td>54.500</td>\n",
       "      <td>96.00</td>\n",
       "    </tr>\n",
       "    <tr>\n",
       "      <th>8</th>\n",
       "      <td>2275.00</td>\n",
       "      <td>122.94</td>\n",
       "      <td>1.0075</td>\n",
       "      <td>125</td>\n",
       "      <td>32.325</td>\n",
       "      <td>111.00</td>\n",
       "    </tr>\n",
       "    <tr>\n",
       "      <th>9</th>\n",
       "      <td>2119.00</td>\n",
       "      <td>109.84</td>\n",
       "      <td>1.3450</td>\n",
       "      <td>650</td>\n",
       "      <td>39.000</td>\n",
       "      <td>91.00</td>\n",
       "    </tr>\n",
       "    <tr>\n",
       "      <th>10</th>\n",
       "      <td>2053.00</td>\n",
       "      <td>116.98</td>\n",
       "      <td>0.8950</td>\n",
       "      <td>525</td>\n",
       "      <td>39.000</td>\n",
       "      <td>80.00</td>\n",
       "    </tr>\n",
       "    <tr>\n",
       "      <th>11</th>\n",
       "      <td>2158.00</td>\n",
       "      <td>124.98</td>\n",
       "      <td>1.1110</td>\n",
       "      <td>550</td>\n",
       "      <td>39.000</td>\n",
       "      <td>88.40</td>\n",
       "    </tr>\n",
       "  </tbody>\n",
       "</table>\n",
       "</div>"
      ],
      "text/plain": [
       "         hp      ad   speed  range      mr   armor\n",
       "0   2205.00  122.00  1.1650    125  54.600   88.00\n",
       "1   2089.00  117.60  1.0750    175  52.500   91.20\n",
       "2   2106.48  118.00  1.2550    125  54.600   90.60\n",
       "3   2084.00  115.00  1.0030    125  54.600  100.00\n",
       "4   2182.00  107.04  0.9850    550  39.000   93.88\n",
       "5   2294.00  115.60  1.1182    125  54.600   90.88\n",
       "6   2184.54  124.27  1.1290    125  54.600   99.00\n",
       "7   2325.00  121.20  0.9130    175  54.500   96.00\n",
       "8   2275.00  122.94  1.0075    125  32.325  111.00\n",
       "9   2119.00  109.84  1.3450    650  39.000   91.00\n",
       "10  2053.00  116.98  0.8950    525  39.000   80.00\n",
       "11  2158.00  124.98  1.1110    550  39.000   88.40"
      ]
     },
     "execution_count": 4,
     "metadata": {},
     "output_type": "execute_result"
    }
   ],
   "source": [
    "df = original[[\"hp\",\"ad\",\"speed\",\"range\",\"mr\",\"armor\"]]\n",
    "df"
   ]
  },
  {
   "cell_type": "code",
   "execution_count": 57,
   "metadata": {},
   "outputs": [
    {
     "data": {
      "text/html": [
       "<div>\n",
       "<style scoped>\n",
       "    .dataframe tbody tr th:only-of-type {\n",
       "        vertical-align: middle;\n",
       "    }\n",
       "\n",
       "    .dataframe tbody tr th {\n",
       "        vertical-align: top;\n",
       "    }\n",
       "\n",
       "    .dataframe thead th {\n",
       "        text-align: right;\n",
       "    }\n",
       "</style>\n",
       "<table border=\"1\" class=\"dataframe\">\n",
       "  <thead>\n",
       "    <tr style=\"text-align: right;\">\n",
       "      <th></th>\n",
       "      <th>ad</th>\n",
       "      <th>range</th>\n",
       "    </tr>\n",
       "  </thead>\n",
       "  <tbody>\n",
       "    <tr>\n",
       "      <th>0</th>\n",
       "      <td>122.00</td>\n",
       "      <td>125</td>\n",
       "    </tr>\n",
       "    <tr>\n",
       "      <th>1</th>\n",
       "      <td>117.60</td>\n",
       "      <td>175</td>\n",
       "    </tr>\n",
       "    <tr>\n",
       "      <th>2</th>\n",
       "      <td>118.00</td>\n",
       "      <td>125</td>\n",
       "    </tr>\n",
       "    <tr>\n",
       "      <th>3</th>\n",
       "      <td>115.00</td>\n",
       "      <td>125</td>\n",
       "    </tr>\n",
       "    <tr>\n",
       "      <th>4</th>\n",
       "      <td>107.04</td>\n",
       "      <td>550</td>\n",
       "    </tr>\n",
       "    <tr>\n",
       "      <th>5</th>\n",
       "      <td>115.60</td>\n",
       "      <td>125</td>\n",
       "    </tr>\n",
       "    <tr>\n",
       "      <th>6</th>\n",
       "      <td>124.27</td>\n",
       "      <td>125</td>\n",
       "    </tr>\n",
       "    <tr>\n",
       "      <th>7</th>\n",
       "      <td>121.20</td>\n",
       "      <td>175</td>\n",
       "    </tr>\n",
       "    <tr>\n",
       "      <th>8</th>\n",
       "      <td>122.94</td>\n",
       "      <td>125</td>\n",
       "    </tr>\n",
       "    <tr>\n",
       "      <th>9</th>\n",
       "      <td>109.84</td>\n",
       "      <td>650</td>\n",
       "    </tr>\n",
       "    <tr>\n",
       "      <th>10</th>\n",
       "      <td>116.98</td>\n",
       "      <td>525</td>\n",
       "    </tr>\n",
       "    <tr>\n",
       "      <th>11</th>\n",
       "      <td>124.98</td>\n",
       "      <td>550</td>\n",
       "    </tr>\n",
       "  </tbody>\n",
       "</table>\n",
       "</div>"
      ],
      "text/plain": [
       "        ad  range\n",
       "0   122.00    125\n",
       "1   117.60    175\n",
       "2   118.00    125\n",
       "3   115.00    125\n",
       "4   107.04    550\n",
       "5   115.60    125\n",
       "6   124.27    125\n",
       "7   121.20    175\n",
       "8   122.94    125\n",
       "9   109.84    650\n",
       "10  116.98    525\n",
       "11  124.98    550"
      ]
     },
     "execution_count": 57,
     "metadata": {},
     "output_type": "execute_result"
    }
   ],
   "source": [
    "df2 = original[[\"ad\", \"range\"]]\n",
    "df2"
   ]
  },
  {
   "cell_type": "code",
   "execution_count": 5,
   "metadata": {},
   "outputs": [
    {
     "data": {
      "text/html": [
       "<div>\n",
       "<style scoped>\n",
       "    .dataframe tbody tr th:only-of-type {\n",
       "        vertical-align: middle;\n",
       "    }\n",
       "\n",
       "    .dataframe tbody tr th {\n",
       "        vertical-align: top;\n",
       "    }\n",
       "\n",
       "    .dataframe thead th {\n",
       "        text-align: right;\n",
       "    }\n",
       "</style>\n",
       "<table border=\"1\" class=\"dataframe\">\n",
       "  <thead>\n",
       "    <tr style=\"text-align: right;\">\n",
       "      <th></th>\n",
       "      <th>ad</th>\n",
       "      <th>range</th>\n",
       "      <th>hp</th>\n",
       "    </tr>\n",
       "  </thead>\n",
       "  <tbody>\n",
       "    <tr>\n",
       "      <th>0</th>\n",
       "      <td>122.00</td>\n",
       "      <td>125</td>\n",
       "      <td>2205.00</td>\n",
       "    </tr>\n",
       "    <tr>\n",
       "      <th>1</th>\n",
       "      <td>117.60</td>\n",
       "      <td>175</td>\n",
       "      <td>2089.00</td>\n",
       "    </tr>\n",
       "    <tr>\n",
       "      <th>2</th>\n",
       "      <td>118.00</td>\n",
       "      <td>125</td>\n",
       "      <td>2106.48</td>\n",
       "    </tr>\n",
       "    <tr>\n",
       "      <th>3</th>\n",
       "      <td>115.00</td>\n",
       "      <td>125</td>\n",
       "      <td>2084.00</td>\n",
       "    </tr>\n",
       "    <tr>\n",
       "      <th>4</th>\n",
       "      <td>107.04</td>\n",
       "      <td>550</td>\n",
       "      <td>2182.00</td>\n",
       "    </tr>\n",
       "    <tr>\n",
       "      <th>5</th>\n",
       "      <td>115.60</td>\n",
       "      <td>125</td>\n",
       "      <td>2294.00</td>\n",
       "    </tr>\n",
       "    <tr>\n",
       "      <th>6</th>\n",
       "      <td>124.27</td>\n",
       "      <td>125</td>\n",
       "      <td>2184.54</td>\n",
       "    </tr>\n",
       "    <tr>\n",
       "      <th>7</th>\n",
       "      <td>121.20</td>\n",
       "      <td>175</td>\n",
       "      <td>2325.00</td>\n",
       "    </tr>\n",
       "    <tr>\n",
       "      <th>8</th>\n",
       "      <td>122.94</td>\n",
       "      <td>125</td>\n",
       "      <td>2275.00</td>\n",
       "    </tr>\n",
       "    <tr>\n",
       "      <th>9</th>\n",
       "      <td>109.84</td>\n",
       "      <td>650</td>\n",
       "      <td>2119.00</td>\n",
       "    </tr>\n",
       "    <tr>\n",
       "      <th>10</th>\n",
       "      <td>116.98</td>\n",
       "      <td>525</td>\n",
       "      <td>2053.00</td>\n",
       "    </tr>\n",
       "    <tr>\n",
       "      <th>11</th>\n",
       "      <td>124.98</td>\n",
       "      <td>550</td>\n",
       "      <td>2158.00</td>\n",
       "    </tr>\n",
       "  </tbody>\n",
       "</table>\n",
       "</div>"
      ],
      "text/plain": [
       "        ad  range       hp\n",
       "0   122.00    125  2205.00\n",
       "1   117.60    175  2089.00\n",
       "2   118.00    125  2106.48\n",
       "3   115.00    125  2084.00\n",
       "4   107.04    550  2182.00\n",
       "5   115.60    125  2294.00\n",
       "6   124.27    125  2184.54\n",
       "7   121.20    175  2325.00\n",
       "8   122.94    125  2275.00\n",
       "9   109.84    650  2119.00\n",
       "10  116.98    525  2053.00\n",
       "11  124.98    550  2158.00"
      ]
     },
     "execution_count": 5,
     "metadata": {},
     "output_type": "execute_result"
    }
   ],
   "source": [
    "df3 = original[[\"ad\",\"range\",\"hp\"]]\n",
    "df3"
   ]
  },
  {
   "cell_type": "code",
   "execution_count": 6,
   "metadata": {},
   "outputs": [
    {
     "data": {
      "text/html": [
       "<div>\n",
       "<style scoped>\n",
       "    .dataframe tbody tr th:only-of-type {\n",
       "        vertical-align: middle;\n",
       "    }\n",
       "\n",
       "    .dataframe tbody tr th {\n",
       "        vertical-align: top;\n",
       "    }\n",
       "\n",
       "    .dataframe thead th {\n",
       "        text-align: right;\n",
       "    }\n",
       "</style>\n",
       "<table border=\"1\" class=\"dataframe\">\n",
       "  <thead>\n",
       "    <tr style=\"text-align: right;\">\n",
       "      <th></th>\n",
       "      <th>ad</th>\n",
       "      <th>range</th>\n",
       "      <th>mr</th>\n",
       "    </tr>\n",
       "  </thead>\n",
       "  <tbody>\n",
       "    <tr>\n",
       "      <th>0</th>\n",
       "      <td>122.00</td>\n",
       "      <td>125</td>\n",
       "      <td>54.600</td>\n",
       "    </tr>\n",
       "    <tr>\n",
       "      <th>1</th>\n",
       "      <td>117.60</td>\n",
       "      <td>175</td>\n",
       "      <td>52.500</td>\n",
       "    </tr>\n",
       "    <tr>\n",
       "      <th>2</th>\n",
       "      <td>118.00</td>\n",
       "      <td>125</td>\n",
       "      <td>54.600</td>\n",
       "    </tr>\n",
       "    <tr>\n",
       "      <th>3</th>\n",
       "      <td>115.00</td>\n",
       "      <td>125</td>\n",
       "      <td>54.600</td>\n",
       "    </tr>\n",
       "    <tr>\n",
       "      <th>4</th>\n",
       "      <td>107.04</td>\n",
       "      <td>550</td>\n",
       "      <td>39.000</td>\n",
       "    </tr>\n",
       "    <tr>\n",
       "      <th>5</th>\n",
       "      <td>115.60</td>\n",
       "      <td>125</td>\n",
       "      <td>54.600</td>\n",
       "    </tr>\n",
       "    <tr>\n",
       "      <th>6</th>\n",
       "      <td>124.27</td>\n",
       "      <td>125</td>\n",
       "      <td>54.600</td>\n",
       "    </tr>\n",
       "    <tr>\n",
       "      <th>7</th>\n",
       "      <td>121.20</td>\n",
       "      <td>175</td>\n",
       "      <td>54.500</td>\n",
       "    </tr>\n",
       "    <tr>\n",
       "      <th>8</th>\n",
       "      <td>122.94</td>\n",
       "      <td>125</td>\n",
       "      <td>32.325</td>\n",
       "    </tr>\n",
       "    <tr>\n",
       "      <th>9</th>\n",
       "      <td>109.84</td>\n",
       "      <td>650</td>\n",
       "      <td>39.000</td>\n",
       "    </tr>\n",
       "    <tr>\n",
       "      <th>10</th>\n",
       "      <td>116.98</td>\n",
       "      <td>525</td>\n",
       "      <td>39.000</td>\n",
       "    </tr>\n",
       "    <tr>\n",
       "      <th>11</th>\n",
       "      <td>124.98</td>\n",
       "      <td>550</td>\n",
       "      <td>39.000</td>\n",
       "    </tr>\n",
       "  </tbody>\n",
       "</table>\n",
       "</div>"
      ],
      "text/plain": [
       "        ad  range      mr\n",
       "0   122.00    125  54.600\n",
       "1   117.60    175  52.500\n",
       "2   118.00    125  54.600\n",
       "3   115.00    125  54.600\n",
       "4   107.04    550  39.000\n",
       "5   115.60    125  54.600\n",
       "6   124.27    125  54.600\n",
       "7   121.20    175  54.500\n",
       "8   122.94    125  32.325\n",
       "9   109.84    650  39.000\n",
       "10  116.98    525  39.000\n",
       "11  124.98    550  39.000"
      ]
     },
     "execution_count": 6,
     "metadata": {},
     "output_type": "execute_result"
    }
   ],
   "source": [
    "df4 = original[[\"ad\",\"range\",\"mr\"]]\n",
    "df4"
   ]
  },
  {
   "cell_type": "code",
   "execution_count": 17,
   "metadata": {},
   "outputs": [
    {
     "data": {
      "text/plain": [
       "<seaborn.axisgrid.FacetGrid at 0x231ff1db278>"
      ]
     },
     "execution_count": 17,
     "metadata": {},
     "output_type": "execute_result"
    },
    {
     "data": {
      "image/png": "[encoded data removed]",
      "text/plain": [
       "<Figure size 360x360 with 1 Axes>"
      ]
     },
     "metadata": {
      "needs_background": "light"
     },
     "output_type": "display_data"
    }
   ],
   "source": [
    "sns.lmplot('hp', 'ad', data=df, fit_reg=False, scatter_kws={'s':200})"
   ]
  },
  {
   "cell_type": "code",
   "execution_count": 11,
   "metadata": {},
   "outputs": [
    {
     "data": {
      "text/plain": [
       "<seaborn.axisgrid.FacetGrid at 0x231fedaa828>"
      ]
     },
     "execution_count": 11,
     "metadata": {},
     "output_type": "execute_result"
    },
    {
     "data": {
      "image/png": "[encoded data removed]",
      "text/plain": [
       "<Figure size 360x360 with 1 Axes>"
      ]
     },
     "metadata": {
      "needs_background": "light"
     },
     "output_type": "display_data"
    }
   ],
   "source": [
    "sns.lmplot('ad', 'range', data=df, fit_reg=False, scatter_kws={'s':200})"
   ]
  },
  {
   "cell_type": "code",
   "execution_count": 13,
   "metadata": {},
   "outputs": [
    {
     "data": {
      "text/plain": [
       "<seaborn.axisgrid.FacetGrid at 0x231fee53c18>"
      ]
     },
     "execution_count": 13,
     "metadata": {},
     "output_type": "execute_result"
    },
    {
     "data": {
      "image/png": "[encoded data removed]",
      "text/plain": [
       "<Figure size 360x360 with 1 Axes>"
      ]
     },
     "metadata": {
      "needs_background": "light"
     },
     "output_type": "display_data"
    }
   ],
   "source": [
    "sns.lmplot('mr', 'armor', data=df, fit_reg=False, scatter_kws={'s':200})"
   ]
  },
  {
   "cell_type": "code",
   "execution_count": 7,
   "metadata": {},
   "outputs": [],
   "source": [
    "data_points = df.values\n",
    "kmeans = KMeans(n_clusters=4).fit(data_points)"
   ]
  },
  {
   "cell_type": "code",
   "execution_count": 8,
   "metadata": {},
   "outputs": [
    {
     "data": {
      "text/plain": [
       "array([[2.12800000e+03, 1.14710000e+02, 1.08400000e+00, 5.68750000e+02,\n",
       "        3.90000000e+01, 8.83200000e+01],\n",
       "       [2.19477000e+03, 1.23135000e+02, 1.14700000e+00, 1.25000000e+02,\n",
       "        5.46000000e+01, 9.35000000e+01],\n",
       "       [2.09316000e+03, 1.16866667e+02, 1.11100000e+00, 1.41666667e+02,\n",
       "        5.39000000e+01, 9.39333333e+01],\n",
       "       [2.29800000e+03, 1.19913333e+02, 1.01290000e+00, 1.41666667e+02,\n",
       "        4.71416667e+01, 9.92933333e+01]])"
      ]
     },
     "execution_count": 8,
     "metadata": {},
     "output_type": "execute_result"
    }
   ],
   "source": [
    "kmeans.cluster_centers_"
   ]
  },
  {
   "cell_type": "code",
   "execution_count": 9,
   "metadata": {},
   "outputs": [
    {
     "name": "stderr",
     "output_type": "stream",
     "text": [
      "C:\\ProgramData\\Anaconda3\\lib\\site-packages\\ipykernel_launcher.py:1: SettingWithCopyWarning: \n",
      "A value is trying to be set on a copy of a slice from a DataFrame.\n",
      "Try using .loc[row_indexer,col_indexer] = value instead\n",
      "\n",
      "See the caveats in the documentation: http://pandas.pydata.org/pandas-docs/stable/indexing.html#indexing-view-versus-copy\n",
      "  \"\"\"Entry point for launching an IPython kernel.\n"
     ]
    }
   ],
   "source": [
    "df['cluster_id'] = kmeans.labels_"
   ]
  },
  {
   "cell_type": "code",
   "execution_count": 10,
   "metadata": {},
   "outputs": [
    {
     "data": {
      "text/html": [
       "<div>\n",
       "<style scoped>\n",
       "    .dataframe tbody tr th:only-of-type {\n",
       "        vertical-align: middle;\n",
       "    }\n",
       "\n",
       "    .dataframe tbody tr th {\n",
       "        vertical-align: top;\n",
       "    }\n",
       "\n",
       "    .dataframe thead th {\n",
       "        text-align: right;\n",
       "    }\n",
       "</style>\n",
       "<table border=\"1\" class=\"dataframe\">\n",
       "  <thead>\n",
       "    <tr style=\"text-align: right;\">\n",
       "      <th></th>\n",
       "      <th>hp</th>\n",
       "      <th>ad</th>\n",
       "      <th>speed</th>\n",
       "      <th>range</th>\n",
       "      <th>mr</th>\n",
       "      <th>armor</th>\n",
       "      <th>cluster_id</th>\n",
       "    </tr>\n",
       "  </thead>\n",
       "  <tbody>\n",
       "    <tr>\n",
       "      <th>0</th>\n",
       "      <td>2205.00</td>\n",
       "      <td>122.00</td>\n",
       "      <td>1.1650</td>\n",
       "      <td>125</td>\n",
       "      <td>54.600</td>\n",
       "      <td>88.00</td>\n",
       "      <td>1</td>\n",
       "    </tr>\n",
       "    <tr>\n",
       "      <th>1</th>\n",
       "      <td>2089.00</td>\n",
       "      <td>117.60</td>\n",
       "      <td>1.0750</td>\n",
       "      <td>175</td>\n",
       "      <td>52.500</td>\n",
       "      <td>91.20</td>\n",
       "      <td>2</td>\n",
       "    </tr>\n",
       "    <tr>\n",
       "      <th>2</th>\n",
       "      <td>2106.48</td>\n",
       "      <td>118.00</td>\n",
       "      <td>1.2550</td>\n",
       "      <td>125</td>\n",
       "      <td>54.600</td>\n",
       "      <td>90.60</td>\n",
       "      <td>2</td>\n",
       "    </tr>\n",
       "    <tr>\n",
       "      <th>3</th>\n",
       "      <td>2084.00</td>\n",
       "      <td>115.00</td>\n",
       "      <td>1.0030</td>\n",
       "      <td>125</td>\n",
       "      <td>54.600</td>\n",
       "      <td>100.00</td>\n",
       "      <td>2</td>\n",
       "    </tr>\n",
       "    <tr>\n",
       "      <th>4</th>\n",
       "      <td>2182.00</td>\n",
       "      <td>107.04</td>\n",
       "      <td>0.9850</td>\n",
       "      <td>550</td>\n",
       "      <td>39.000</td>\n",
       "      <td>93.88</td>\n",
       "      <td>0</td>\n",
       "    </tr>\n",
       "    <tr>\n",
       "      <th>5</th>\n",
       "      <td>2294.00</td>\n",
       "      <td>115.60</td>\n",
       "      <td>1.1182</td>\n",
       "      <td>125</td>\n",
       "      <td>54.600</td>\n",
       "      <td>90.88</td>\n",
       "      <td>3</td>\n",
       "    </tr>\n",
       "    <tr>\n",
       "      <th>6</th>\n",
       "      <td>2184.54</td>\n",
       "      <td>124.27</td>\n",
       "      <td>1.1290</td>\n",
       "      <td>125</td>\n",
       "      <td>54.600</td>\n",
       "      <td>99.00</td>\n",
       "      <td>1</td>\n",
       "    </tr>\n",
       "    <tr>\n",
       "      <th>7</th>\n",
       "      <td>2325.00</td>\n",
       "      <td>121.20</td>\n",
       "      <td>0.9130</td>\n",
       "      <td>175</td>\n",
       "      <td>54.500</td>\n",
       "      <td>96.00</td>\n",
       "      <td>3</td>\n",
       "    </tr>\n",
       "    <tr>\n",
       "      <th>8</th>\n",
       "      <td>2275.00</td>\n",
       "      <td>122.94</td>\n",
       "      <td>1.0075</td>\n",
       "      <td>125</td>\n",
       "      <td>32.325</td>\n",
       "      <td>111.00</td>\n",
       "      <td>3</td>\n",
       "    </tr>\n",
       "    <tr>\n",
       "      <th>9</th>\n",
       "      <td>2119.00</td>\n",
       "      <td>109.84</td>\n",
       "      <td>1.3450</td>\n",
       "      <td>650</td>\n",
       "      <td>39.000</td>\n",
       "      <td>91.00</td>\n",
       "      <td>0</td>\n",
       "    </tr>\n",
       "    <tr>\n",
       "      <th>10</th>\n",
       "      <td>2053.00</td>\n",
       "      <td>116.98</td>\n",
       "      <td>0.8950</td>\n",
       "      <td>525</td>\n",
       "      <td>39.000</td>\n",
       "      <td>80.00</td>\n",
       "      <td>0</td>\n",
       "    </tr>\n",
       "    <tr>\n",
       "      <th>11</th>\n",
       "      <td>2158.00</td>\n",
       "      <td>124.98</td>\n",
       "      <td>1.1110</td>\n",
       "      <td>550</td>\n",
       "      <td>39.000</td>\n",
       "      <td>88.40</td>\n",
       "      <td>0</td>\n",
       "    </tr>\n",
       "  </tbody>\n",
       "</table>\n",
       "</div>"
      ],
      "text/plain": [
       "         hp      ad   speed  range      mr   armor  cluster_id\n",
       "0   2205.00  122.00  1.1650    125  54.600   88.00           1\n",
       "1   2089.00  117.60  1.0750    175  52.500   91.20           2\n",
       "2   2106.48  118.00  1.2550    125  54.600   90.60           2\n",
       "3   2084.00  115.00  1.0030    125  54.600  100.00           2\n",
       "4   2182.00  107.04  0.9850    550  39.000   93.88           0\n",
       "5   2294.00  115.60  1.1182    125  54.600   90.88           3\n",
       "6   2184.54  124.27  1.1290    125  54.600   99.00           1\n",
       "7   2325.00  121.20  0.9130    175  54.500   96.00           3\n",
       "8   2275.00  122.94  1.0075    125  32.325  111.00           3\n",
       "9   2119.00  109.84  1.3450    650  39.000   91.00           0\n",
       "10  2053.00  116.98  0.8950    525  39.000   80.00           0\n",
       "11  2158.00  124.98  1.1110    550  39.000   88.40           0"
      ]
     },
     "execution_count": 10,
     "metadata": {},
     "output_type": "execute_result"
    }
   ],
   "source": [
    "df"
   ]
  },
  {
   "cell_type": "code",
   "execution_count": 62,
   "metadata": {},
   "outputs": [
    {
     "data": {
      "text/plain": [
       "0       Rengar\n",
       "1        Yasuo\n",
       "2        Riven\n",
       "3      Evelynn\n",
       "4         Ahri\n",
       "5     Katarina\n",
       "6        Mundo\n",
       "7          Zac\n",
       "8       Maokai\n",
       "9      Caitlyn\n",
       "10    Tristana\n",
       "11      Draven\n",
       "Name: name, dtype: object"
      ]
     },
     "execution_count": 62,
     "metadata": {},
     "output_type": "execute_result"
    }
   ],
   "source": [
    "original[\"name\"]"
   ]
  },
  {
   "cell_type": "code",
   "execution_count": 58,
   "metadata": {},
   "outputs": [],
   "source": [
    "data_points = df2.values\n",
    "kmeans = KMeans(n_clusters=4).fit(data_points)"
   ]
  },
  {
   "cell_type": "code",
   "execution_count": 59,
   "metadata": {},
   "outputs": [
    {
     "data": {
      "text/plain": [
       "array([[119.635     , 125.        ],\n",
       "       [116.33333333, 541.66666667],\n",
       "       [109.84      , 650.        ],\n",
       "       [119.4       , 175.        ]])"
      ]
     },
     "execution_count": 59,
     "metadata": {},
     "output_type": "execute_result"
    }
   ],
   "source": [
    "kmeans.cluster_centers_"
   ]
  },
  {
   "cell_type": "code",
   "execution_count": 60,
   "metadata": {},
   "outputs": [
    {
     "name": "stderr",
     "output_type": "stream",
     "text": [
      "C:\\ProgramData\\Anaconda3\\lib\\site-packages\\ipykernel_launcher.py:1: SettingWithCopyWarning: \n",
      "A value is trying to be set on a copy of a slice from a DataFrame.\n",
      "Try using .loc[row_indexer,col_indexer] = value instead\n",
      "\n",
      "See the caveats in the documentation: http://pandas.pydata.org/pandas-docs/stable/indexing.html#indexing-view-versus-copy\n",
      "  \"\"\"Entry point for launching an IPython kernel.\n"
     ]
    }
   ],
   "source": [
    "df2['cluster_id'] = kmeans.labels_"
   ]
  },
  {
   "cell_type": "code",
   "execution_count": 92,
   "metadata": {},
   "outputs": [
    {
     "data": {
      "text/html": [
       "<div>\n",
       "<style scoped>\n",
       "    .dataframe tbody tr th:only-of-type {\n",
       "        vertical-align: middle;\n",
       "    }\n",
       "\n",
       "    .dataframe tbody tr th {\n",
       "        vertical-align: top;\n",
       "    }\n",
       "\n",
       "    .dataframe thead th {\n",
       "        text-align: right;\n",
       "    }\n",
       "</style>\n",
       "<table border=\"1\" class=\"dataframe\">\n",
       "  <thead>\n",
       "    <tr style=\"text-align: right;\">\n",
       "      <th></th>\n",
       "      <th>ad</th>\n",
       "      <th>range</th>\n",
       "      <th>cluster_id</th>\n",
       "    </tr>\n",
       "  </thead>\n",
       "  <tbody>\n",
       "    <tr>\n",
       "      <th>0</th>\n",
       "      <td>122.00</td>\n",
       "      <td>125</td>\n",
       "      <td>0</td>\n",
       "    </tr>\n",
       "    <tr>\n",
       "      <th>1</th>\n",
       "      <td>117.60</td>\n",
       "      <td>175</td>\n",
       "      <td>3</td>\n",
       "    </tr>\n",
       "    <tr>\n",
       "      <th>2</th>\n",
       "      <td>118.00</td>\n",
       "      <td>125</td>\n",
       "      <td>0</td>\n",
       "    </tr>\n",
       "    <tr>\n",
       "      <th>3</th>\n",
       "      <td>115.00</td>\n",
       "      <td>125</td>\n",
       "      <td>0</td>\n",
       "    </tr>\n",
       "    <tr>\n",
       "      <th>4</th>\n",
       "      <td>107.04</td>\n",
       "      <td>550</td>\n",
       "      <td>1</td>\n",
       "    </tr>\n",
       "    <tr>\n",
       "      <th>5</th>\n",
       "      <td>115.60</td>\n",
       "      <td>125</td>\n",
       "      <td>0</td>\n",
       "    </tr>\n",
       "    <tr>\n",
       "      <th>6</th>\n",
       "      <td>124.27</td>\n",
       "      <td>125</td>\n",
       "      <td>0</td>\n",
       "    </tr>\n",
       "    <tr>\n",
       "      <th>7</th>\n",
       "      <td>121.20</td>\n",
       "      <td>175</td>\n",
       "      <td>3</td>\n",
       "    </tr>\n",
       "    <tr>\n",
       "      <th>8</th>\n",
       "      <td>122.94</td>\n",
       "      <td>125</td>\n",
       "      <td>0</td>\n",
       "    </tr>\n",
       "    <tr>\n",
       "      <th>9</th>\n",
       "      <td>109.84</td>\n",
       "      <td>650</td>\n",
       "      <td>2</td>\n",
       "    </tr>\n",
       "    <tr>\n",
       "      <th>10</th>\n",
       "      <td>116.98</td>\n",
       "      <td>525</td>\n",
       "      <td>1</td>\n",
       "    </tr>\n",
       "    <tr>\n",
       "      <th>11</th>\n",
       "      <td>124.98</td>\n",
       "      <td>550</td>\n",
       "      <td>1</td>\n",
       "    </tr>\n",
       "  </tbody>\n",
       "</table>\n",
       "</div>"
      ],
      "text/plain": [
       "        ad  range  cluster_id\n",
       "0   122.00    125           0\n",
       "1   117.60    175           3\n",
       "2   118.00    125           0\n",
       "3   115.00    125           0\n",
       "4   107.04    550           1\n",
       "5   115.60    125           0\n",
       "6   124.27    125           0\n",
       "7   121.20    175           3\n",
       "8   122.94    125           0\n",
       "9   109.84    650           2\n",
       "10  116.98    525           1\n",
       "11  124.98    550           1"
      ]
     },
     "execution_count": 92,
     "metadata": {},
     "output_type": "execute_result"
    }
   ],
   "source": [
    "df2"
   ]
  },
  {
   "cell_type": "code",
   "execution_count": 68,
   "metadata": {},
   "outputs": [
    {
     "data": {
      "text/plain": [
       "<seaborn.axisgrid.FacetGrid at 0x231ff4545f8>"
      ]
     },
     "execution_count": 68,
     "metadata": {},
     "output_type": "execute_result"
    },
    {
     "data": {
      "image/png": "[encoded data removed]",
      "text/plain": [
       "<Figure size 416.375x360 with 1 Axes>"
      ]
     },
     "metadata": {
      "needs_background": "light"
     },
     "output_type": "display_data"
    }
   ],
   "source": [
    "sns.lmplot('ad','range', data=df2, fit_reg=False, \n",
    "           scatter_kws={'s':150},\n",
    "           hue='cluster_id')"
   ]
  },
  {
   "cell_type": "code",
   "execution_count": 71,
   "metadata": {},
   "outputs": [
    {
     "data": {
      "text/plain": [
       "<seaborn.axisgrid.FacetGrid at 0x231ff9695c0>"
      ]
     },
     "execution_count": 71,
     "metadata": {},
     "output_type": "execute_result"
    },
    {
     "data": {
      "image/png": "[encoded data removed]",
      "text/plain": [
       "<Figure size 416.375x360 with 1 Axes>"
      ]
     },
     "metadata": {
      "needs_background": "light"
     },
     "output_type": "display_data"
    }
   ],
   "source": [
    "sns.lmplot('ad','hp', data=df, fit_reg=False, \n",
    "           scatter_kws={'s':150},\n",
    "           hue='cluster_id')"
   ]
  },
  {
   "cell_type": "code",
   "execution_count": 75,
   "metadata": {},
   "outputs": [
    {
     "data": {
      "text/plain": [
       "<seaborn.axisgrid.FacetGrid at 0x231ffa76fd0>"
      ]
     },
     "execution_count": 75,
     "metadata": {},
     "output_type": "execute_result"
    },
    {
     "data": {
      "image/png": "[encoded data removed]",
      "text/plain": [
       "<Figure size 416.375x360 with 1 Axes>"
      ]
     },
     "metadata": {
      "needs_background": "light"
     },
     "output_type": "display_data"
    }
   ],
   "source": [
    "sns.lmplot('mr','ad', data=df, fit_reg=False, \n",
    "           scatter_kws={'s':150},\n",
    "           hue='cluster_id')"
   ]
  },
  {
   "cell_type": "code",
   "execution_count": 11,
   "metadata": {},
   "outputs": [],
   "source": [
    "import matplotlib as mpl\n",
    "from mpl_toolkits.mplot3d import Axes3D\n",
    "import matplotlib.pyplot as plt"
   ]
  },
  {
   "cell_type": "code",
   "execution_count": 116,
   "metadata": {},
   "outputs": [
    {
     "data": {
      "text/html": [
       "<div>\n",
       "<style scoped>\n",
       "    .dataframe tbody tr th:only-of-type {\n",
       "        vertical-align: middle;\n",
       "    }\n",
       "\n",
       "    .dataframe tbody tr th {\n",
       "        vertical-align: top;\n",
       "    }\n",
       "\n",
       "    .dataframe thead th {\n",
       "        text-align: right;\n",
       "    }\n",
       "</style>\n",
       "<table border=\"1\" class=\"dataframe\">\n",
       "  <thead>\n",
       "    <tr style=\"text-align: right;\">\n",
       "      <th></th>\n",
       "      <th>ad</th>\n",
       "      <th>range</th>\n",
       "      <th>hp</th>\n",
       "    </tr>\n",
       "  </thead>\n",
       "  <tbody>\n",
       "    <tr>\n",
       "      <th>0</th>\n",
       "      <td>122.00</td>\n",
       "      <td>125</td>\n",
       "      <td>2205.00</td>\n",
       "    </tr>\n",
       "    <tr>\n",
       "      <th>6</th>\n",
       "      <td>124.27</td>\n",
       "      <td>125</td>\n",
       "      <td>2184.54</td>\n",
       "    </tr>\n",
       "  </tbody>\n",
       "</table>\n",
       "</div>"
      ],
      "text/plain": [
       "       ad  range       hp\n",
       "0  122.00    125  2205.00\n",
       "6  124.27    125  2184.54"
      ]
     },
     "execution_count": 116,
     "metadata": {},
     "output_type": "execute_result"
    }
   ],
   "source": [
    "df3_1 = df3.loc[df['cluster_id']==0, :]\n",
    "df3_1"
   ]
  },
  {
   "cell_type": "code",
   "execution_count": 117,
   "metadata": {},
   "outputs": [
    {
     "data": {
      "text/html": [
       "<div>\n",
       "<style scoped>\n",
       "    .dataframe tbody tr th:only-of-type {\n",
       "        vertical-align: middle;\n",
       "    }\n",
       "\n",
       "    .dataframe tbody tr th {\n",
       "        vertical-align: top;\n",
       "    }\n",
       "\n",
       "    .dataframe thead th {\n",
       "        text-align: right;\n",
       "    }\n",
       "</style>\n",
       "<table border=\"1\" class=\"dataframe\">\n",
       "  <thead>\n",
       "    <tr style=\"text-align: right;\">\n",
       "      <th></th>\n",
       "      <th>ad</th>\n",
       "      <th>range</th>\n",
       "      <th>hp</th>\n",
       "    </tr>\n",
       "  </thead>\n",
       "  <tbody>\n",
       "    <tr>\n",
       "      <th>4</th>\n",
       "      <td>107.04</td>\n",
       "      <td>550</td>\n",
       "      <td>2182.0</td>\n",
       "    </tr>\n",
       "    <tr>\n",
       "      <th>9</th>\n",
       "      <td>109.84</td>\n",
       "      <td>650</td>\n",
       "      <td>2119.0</td>\n",
       "    </tr>\n",
       "    <tr>\n",
       "      <th>10</th>\n",
       "      <td>116.98</td>\n",
       "      <td>525</td>\n",
       "      <td>2053.0</td>\n",
       "    </tr>\n",
       "    <tr>\n",
       "      <th>11</th>\n",
       "      <td>124.98</td>\n",
       "      <td>550</td>\n",
       "      <td>2158.0</td>\n",
       "    </tr>\n",
       "  </tbody>\n",
       "</table>\n",
       "</div>"
      ],
      "text/plain": [
       "        ad  range      hp\n",
       "4   107.04    550  2182.0\n",
       "9   109.84    650  2119.0\n",
       "10  116.98    525  2053.0\n",
       "11  124.98    550  2158.0"
      ]
     },
     "execution_count": 117,
     "metadata": {},
     "output_type": "execute_result"
    }
   ],
   "source": [
    "df3_2 = df3.loc[df['cluster_id']==1, :]\n",
    "df3_2"
   ]
  },
  {
   "cell_type": "code",
   "execution_count": 119,
   "metadata": {},
   "outputs": [
    {
     "data": {
      "text/html": [
       "<div>\n",
       "<style scoped>\n",
       "    .dataframe tbody tr th:only-of-type {\n",
       "        vertical-align: middle;\n",
       "    }\n",
       "\n",
       "    .dataframe tbody tr th {\n",
       "        vertical-align: top;\n",
       "    }\n",
       "\n",
       "    .dataframe thead th {\n",
       "        text-align: right;\n",
       "    }\n",
       "</style>\n",
       "<table border=\"1\" class=\"dataframe\">\n",
       "  <thead>\n",
       "    <tr style=\"text-align: right;\">\n",
       "      <th></th>\n",
       "      <th>ad</th>\n",
       "      <th>range</th>\n",
       "      <th>hp</th>\n",
       "    </tr>\n",
       "  </thead>\n",
       "  <tbody>\n",
       "    <tr>\n",
       "      <th>1</th>\n",
       "      <td>117.6</td>\n",
       "      <td>175</td>\n",
       "      <td>2089.00</td>\n",
       "    </tr>\n",
       "    <tr>\n",
       "      <th>2</th>\n",
       "      <td>118.0</td>\n",
       "      <td>125</td>\n",
       "      <td>2106.48</td>\n",
       "    </tr>\n",
       "    <tr>\n",
       "      <th>3</th>\n",
       "      <td>115.0</td>\n",
       "      <td>125</td>\n",
       "      <td>2084.00</td>\n",
       "    </tr>\n",
       "  </tbody>\n",
       "</table>\n",
       "</div>"
      ],
      "text/plain": [
       "      ad  range       hp\n",
       "1  117.6    175  2089.00\n",
       "2  118.0    125  2106.48\n",
       "3  115.0    125  2084.00"
      ]
     },
     "execution_count": 119,
     "metadata": {},
     "output_type": "execute_result"
    }
   ],
   "source": [
    "df3_3 = df3.loc[df['cluster_id']==2, :]\n",
    "df3_3"
   ]
  },
  {
   "cell_type": "code",
   "execution_count": 121,
   "metadata": {},
   "outputs": [
    {
     "data": {
      "text/html": [
       "<div>\n",
       "<style scoped>\n",
       "    .dataframe tbody tr th:only-of-type {\n",
       "        vertical-align: middle;\n",
       "    }\n",
       "\n",
       "    .dataframe tbody tr th {\n",
       "        vertical-align: top;\n",
       "    }\n",
       "\n",
       "    .dataframe thead th {\n",
       "        text-align: right;\n",
       "    }\n",
       "</style>\n",
       "<table border=\"1\" class=\"dataframe\">\n",
       "  <thead>\n",
       "    <tr style=\"text-align: right;\">\n",
       "      <th></th>\n",
       "      <th>ad</th>\n",
       "      <th>range</th>\n",
       "      <th>hp</th>\n",
       "    </tr>\n",
       "  </thead>\n",
       "  <tbody>\n",
       "    <tr>\n",
       "      <th>5</th>\n",
       "      <td>115.60</td>\n",
       "      <td>125</td>\n",
       "      <td>2294.0</td>\n",
       "    </tr>\n",
       "    <tr>\n",
       "      <th>7</th>\n",
       "      <td>121.20</td>\n",
       "      <td>175</td>\n",
       "      <td>2325.0</td>\n",
       "    </tr>\n",
       "    <tr>\n",
       "      <th>8</th>\n",
       "      <td>122.94</td>\n",
       "      <td>125</td>\n",
       "      <td>2275.0</td>\n",
       "    </tr>\n",
       "  </tbody>\n",
       "</table>\n",
       "</div>"
      ],
      "text/plain": [
       "       ad  range      hp\n",
       "5  115.60    125  2294.0\n",
       "7  121.20    175  2325.0\n",
       "8  122.94    125  2275.0"
      ]
     },
     "execution_count": 121,
     "metadata": {},
     "output_type": "execute_result"
    }
   ],
   "source": [
    "df3_4 = df3.loc[df['cluster_id']==3, :]\n",
    "df3_4"
   ]
  },
  {
   "cell_type": "code",
   "execution_count": 125,
   "metadata": {},
   "outputs": [
    {
     "data": {
      "image/png": "[encoded data removed]",
      "text/plain": [
       "<Figure size 432x288 with 1 Axes>"
      ]
     },
     "metadata": {
      "needs_background": "light"
     },
     "output_type": "display_data"
    }
   ],
   "source": [
    "mpl.rcParams['legend.fontsize'] = 10\n",
    "\n",
    "fig = plt.figure()\n",
    "ax = fig.add_subplot(111, projection='3d')\n",
    "ax.scatter(df3_1['ad'], df3_1['hp'], df3_1['range'], c='r', marker='o')\n",
    "ax.scatter(df3_2['ad'], df3_2['hp'], df3_2['range'], c='b', marker='o')\n",
    "ax.scatter(df3_3['ad'], df3_3['hp'], df3_3['range'], c='y', marker='o')\n",
    "ax.scatter(df3_4['ad'], df3_4['hp'], df3_4['range'], c='g', marker='o')\n",
    "\n",
    "ax.set_xlabel('ad')\n",
    "ax.set_ylabel('hp')\n",
    "ax.set_zlabel('range')\n",
    "\n",
    "plt.show()"
   ]
  },
  {
   "cell_type": "code",
   "execution_count": 14,
   "metadata": {},
   "outputs": [],
   "source": [
    "df4_1 = df4.loc[df['cluster_id']==0, :]\n",
    "df4_2 = df4.loc[df['cluster_id']==1, :]\n",
    "df4_3 = df4.loc[df['cluster_id']==2, :]\n",
    "df4_4 = df4.loc[df['cluster_id']==3, :]"
   ]
  },
  {
   "cell_type": "code",
   "execution_count": 18,
   "metadata": {},
   "outputs": [
    {
     "data": {
      "image/png": "[encoded data removed]",
      "text/plain": [
       "<Figure size 432x288 with 1 Axes>"
      ]
     },
     "metadata": {
      "needs_background": "light"
     },
     "output_type": "display_data"
    }
   ],
   "source": [
    "mpl.rcParams['legend.fontsize'] = 10\n",
    "\n",
    "fig = plt.figure()\n",
    "ax = fig.add_subplot(111, projection='3d')\n",
    "ax.scatter(df4_1['ad'], df4_1['range'], df4_1['mr'], c='r', marker='o')\n",
    "ax.scatter(df4_2['ad'], df4_2['range'], df4_2['mr'], c='b', marker='o')\n",
    "ax.scatter(df4_3['ad'], df4_3['range'], df4_3['mr'], c='y', marker='o')\n",
    "ax.scatter(df4_4['ad'], df4_4['range'], df4_4['mr'], c='g', marker='o')\n",
    "\n",
    "ax.set_xlabel('ad')\n",
    "ax.set_ylabel('range')\n",
    "ax.set_zlabel('mr')\n",
    "\n",
    "plt.show()"
   ]
  },
  {
   "cell_type": "code",
   "execution_count": 19,
   "metadata": {},
   "outputs": [
    {
     "data": {
      "image/png": "[encoded data removed]",
      "text/plain": [
       "<Figure size 432x288 with 1 Axes>"
      ]
     },
     "metadata": {
      "needs_background": "light"
     },
     "output_type": "display_data"
    }
   ],
   "source": [
    "mpl.rcParams['legend.fontsize'] = 10\n",
    "\n",
    "fig = plt.figure()\n",
    "ax = fig.add_subplot(111, projection='3d')\n",
    "ax.scatter(df4_1['range'], df4_1['ad'], df4_1['mr'], c='r', marker='o')\n",
    "ax.scatter(df4_2['range'], df4_2['ad'], df4_2['mr'], c='b', marker='o')\n",
    "ax.scatter(df4_3['range'], df4_3['ad'], df4_3['mr'], c='y', marker='o')\n",
    "ax.scatter(df4_4['range'], df4_4['ad'], df4_4['mr'], c='g', marker='o')\n",
    "\n",
    "ax.set_xlabel('range')\n",
    "ax.set_ylabel('ad')\n",
    "ax.set_zlabel('mr')\n",
    "\n",
    "plt.show()"
   ]
  }
 ],
 "metadata": {
  "kernelspec": {
   "display_name": "Python 3",
   "language": "python",
   "name": "python3"
  },
  "language_info": {
   "codemirror_mode": {
    "name": "ipython",
    "version": 3
   },
   "file_extension": ".py",
   "mimetype": "text/x-python",
   "name": "python",
   "nbconvert_exporter": "python",
   "pygments_lexer": "ipython3",
   "version": "3.7.1"
  }
 },
 "nbformat": 4,
 "nbformat_minor": 2
}
